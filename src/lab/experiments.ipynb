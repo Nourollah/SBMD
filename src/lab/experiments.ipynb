{
 "cells": [
  {
   "cell_type": "code",
   "metadata": {},
   "source": [
    "from ase.md.langevin import Langevin\n",
    "from ase.md import MDLogger\n",
    "from ase.build import molecule\n",
    "from ase import Atoms\n",
    "from xtb.ase.calculator import XTB\n",
    "from ase.calculators.emt import EMT\n",
    "from ase import units\n",
    "from rich import print\n",
    "from ase.calculators.acn import ACN, m_me, r_cn, r_mec\n",
    "from ase.constraints import FixLinearTriatomic\n",
    "from ase.io import Trajectory\n",
    "import numpy as np"
   ],
   "outputs": [],
   "execution_count": null
  },
  {
   "cell_type": "code",
   "metadata": {},
   "source": [
    "from xtb.utils import get_method\n",
    "get_method('GFN2-xTB') is not None"
   ],
   "outputs": [],
   "execution_count": null
  },
  {
   "metadata": {},
   "cell_type": "code",
   "source": [
    "# Bond lengths\n",
    "from ase.data.pubchem import pubchem_atoms_search, pubchem_atoms_conformer_search\n",
    "# Create butene molecule\n",
    "# atoms = Atoms('CCCCHHHHHHHH', positions=positions)\n",
    "# atoms.rotate(30, 'x')\n",
    "atoms = pubchem_atoms_search(smiles='CC=CC')\n",
    "# Now use this butene object in your MD simulation"
   ],
   "outputs": [],
   "execution_count": null
  },
  {
   "cell_type": "code",
   "metadata": {},
   "source": [
    "print(atoms)"
   ],
   "outputs": [],
   "execution_count": null
  },
  {
   "cell_type": "code",
   "metadata": {},
   "source": [
    "d = 0.776 / 1e24\n",
    "L = ((atoms.get_masses().sum() / units.mol) / d)**(1 / 3.) * 10\n",
    "# Set up box of 27 acetonitrile molecules\n",
    "atoms.set_cell((L, L, L))\n",
    "atoms.center()\n",
    "# atoms = atoms.repeat((3, 3, 3))\n",
    "print(atoms)"
   ],
   "outputs": [],
   "execution_count": null
  },
  {
   "cell_type": "code",
   "metadata": {},
   "source": [
    "atoms.calc = XTB(\n",
    "    method=\"GFN2-xTB\",\n",
    "    directory='xtb_files',\n",
    "    atoms=atoms,\n",
    "    charge=0,\n",
    "    multiplicity=1,\n",
    "    parallel=True,\n",
    "    periodic=True,\n",
    ")\n",
    "print(atoms.get_potential_energy())\n",
    "print(atoms.get_forces())"
   ],
   "outputs": [],
   "execution_count": null
  },
  {
   "cell_type": "code",
   "metadata": {},
   "source": [
    "atoms.calc"
   ],
   "outputs": [],
   "execution_count": null
  },
  {
   "cell_type": "code",
   "metadata": {},
   "source": [
    "dyn = Langevin(\n",
    "    atoms,\n",
    "    timestep=0.5 * units.fs,\n",
    "    temperature_K=298,\n",
    "    friction=0.02,\n",
    "    trajectory='md1.traj',\n",
    "    logfile='md1.log',\n",
    "    append_trajectory=True)\n",
    "\n",
    "\n",
    "# Set up trajectory\n",
    "traj = Trajectory('md.traj', 'w', atoms)\n",
    "dyn.attach(traj.write, interval=1)\n",
    "# dyn.attach(MDLogger(\n",
    "#     dyn,\n",
    "#     atoms,\n",
    "#     'md.log',\n",
    "#     header=False,\n",
    "#     stress=False,\n",
    "#     peratom=True,\n",
    "#     mode=\"a\"\n",
    "#     ), interval=1000)"
   ],
   "outputs": [],
   "execution_count": null
  },
  {
   "metadata": {},
   "cell_type": "code",
   "source": [
    "from logmd import LogMD\n",
    "logmd = LogMD()\n",
    "dyn.attach(lambda: logmd(atoms), interval=1)"
   ],
   "outputs": [],
   "execution_count": null
  },
  {
   "cell_type": "code",
   "metadata": {},
   "source": [
    "dyn.run(10000)"
   ],
   "outputs": [],
   "execution_count": null
  },
  {
   "cell_type": "code",
   "metadata": {},
   "source": [
    "print(atoms.get_potential_energy())\n",
    "print(atoms.get_forces())"
   ],
   "outputs": [],
   "execution_count": null
  },
  {
   "cell_type": "code",
   "metadata": {},
   "source": [
    "print(atoms.get_potential_energy())\n",
    "print(atoms.get_forces())"
   ],
   "outputs": [],
   "execution_count": null
  },
  {
   "cell_type": "code",
   "metadata": {},
   "source": [
    "import plotly.express as px\n",
    "import pandas as pd\n",
    "\n",
    "# Load the data (replace 'your_file.txt' with the actual filename)\n",
    "df = pd.read_csv(\"md.log\", delim_whitespace=True)\n",
    "\n",
    "# Plot Time vs. Etot\n",
    "fig = px.line(df, x=\"Time[ps]\", y=\"Etot[eV]\", title=\"Total Energy vs. Time\")\n",
    "\n",
    "# Show the interactive plot\n",
    "fig.show()"
   ],
   "outputs": [],
   "execution_count": null
  },
  {
   "cell_type": "code",
   "metadata": {},
   "source": [
    "import plotly.express as px\n",
    "import pandas as pd\n",
    "\n",
    "# Load the data (replace 'your_file.txt' with the actual filename)\n",
    "df = pd.read_csv(\"md.log\", delim_whitespace=True)\n",
    "\n",
    "# Plot Time vs. Etot\n",
    "fig = px.line(df, x=\"Time[ps]\", y=\"T[K]\", title=\"T[K] vs. Time\")\n",
    "\n",
    "# Show the interactive plot\n",
    "fig.show()"
   ],
   "outputs": [],
   "execution_count": null
  },
  {
   "cell_type": "code",
   "metadata": {},
   "source": [
    "!ls"
   ],
   "outputs": [],
   "execution_count": null
  },
  {
   "metadata": {},
   "cell_type": "code",
   "source": [
    "from ase.io import read\n",
    "from ase.visualize import view\n",
    "\n",
    "# Read the entire trajectory\n",
    "traj = read(\"md.traj\", index=\":\")  # \":\" means all frames\n",
    "view(traj)  # Opens a simple GUI viewer"
   ],
   "outputs": [],
   "execution_count": null
  },
  {
   "metadata": {},
   "cell_type": "code",
   "source": [
    "# Pull out specific snapshots (e.g., the last frame):\n",
    "last_frame = read(\"mymd.traj\", index=-1)  # Last frame\n",
    "print(last_frame.get_positions())  # Atomic coordinates"
   ],
   "outputs": [],
   "execution_count": null
  },
  {
   "metadata": {},
   "cell_type": "code",
   "source": [
    "from ase.io import write\n",
    "write(\"mymd.xyz\", traj)  # Creates a multi-frame XYZ file"
   ],
   "outputs": [],
   "execution_count": null
  },
  {
   "metadata": {},
   "cell_type": "code",
   "source": [
    "for frame in traj:\n",
    "    energy = frame.get_potential_energy()\n",
    "    print(f\"Energy: {energy} eV\")"
   ],
   "outputs": [],
   "execution_count": null
  }
 ],
 "metadata": {
  "kernelspec": {
   "display_name": "torchmd-net",
   "language": "python",
   "name": "python3"
  },
  "language_info": {
   "codemirror_mode": {
    "name": "ipython",
    "version": 3
   },
   "file_extension": ".py",
   "mimetype": "text/x-python",
   "name": "python",
   "nbconvert_exporter": "python",
   "pygments_lexer": "ipython3",
   "version": "3.11.11"
  }
 },
 "nbformat": 4,
 "nbformat_minor": 2
}
