{
 "cells": [
  {
   "cell_type": "code",
   "metadata": {
    "ExecuteTime": {
     "end_time": "2025-03-22T15:22:27.769071Z",
     "start_time": "2025-03-22T15:22:27.767137Z"
    }
   },
   "source": [
    "from ase.md.langevin import Langevin\n",
    "from ase.build import molecule\n",
    "from ase import Atoms\n",
    "from xtb.ase.calculator import XTB\n",
    "from ase.calculators.emt import EMT\n",
    "from ase import units\n",
    "from rich import print\n",
    "from ase.calculators.acn import ACN, m_me, r_cn, r_mec\n",
    "from ase.constraints import FixLinearTriatomic\n",
    "from ase.io import Trajectory\n",
    "from ase.md import MDLogger\n",
    "import numpy as np"
   ],
   "outputs": [],
   "execution_count": 9
  },
  {
   "cell_type": "code",
   "metadata": {
    "ExecuteTime": {
     "end_time": "2025-03-22T15:22:30.462329Z",
     "start_time": "2025-03-22T15:22:30.460191Z"
    }
   },
   "source": [
    "from xtb.utils import get_method\n",
    "get_method('GFN2-xTB') is not None"
   ],
   "outputs": [
    {
     "data": {
      "text/plain": [
       "True"
      ]
     },
     "execution_count": 10,
     "metadata": {},
     "output_type": "execute_result"
    }
   ],
   "execution_count": 10
  },
  {
   "metadata": {
    "ExecuteTime": {
     "end_time": "2025-03-22T15:22:38.770933Z",
     "start_time": "2025-03-22T15:22:38.769369Z"
    }
   },
   "cell_type": "code",
   "source": "smile = 'CCCCCC'",
   "outputs": [],
   "execution_count": 11
  },
  {
   "metadata": {
    "ExecuteTime": {
     "end_time": "2025-03-22T15:22:41.787144Z",
     "start_time": "2025-03-22T15:22:39.920975Z"
    }
   },
   "cell_type": "code",
   "source": [
    "# Bond lengths\n",
    "from ase.data.pubchem import pubchem_atoms_search, pubchem_atoms_conformer_search\n",
    "# Create butene molecule\n",
    "# atoms = Atoms('CCCCHHHHHHHH', positions=positions)\n",
    "# atoms.rotate(30, 'x')\n",
    "atoms = pubchem_atoms_search(smiles=smile)\n",
    "# Now use this butene object in your MD simulation"
   ],
   "outputs": [
    {
     "name": "stderr",
     "output_type": "stream",
     "text": [
      "/home/amir/.conda/envs/venv/lib/python3.10/site-packages/ase/data/pubchem.py:80: UserWarning: The structure \"CCCCCC\" has more than one conformer in PubChem. By default, the first conformer is returned, please ensure you are using the structure you intend to or use the `ase.data.pubchem.pubchem_conformer_search` function\n",
      "  warnings.warn(\n"
     ]
    }
   ],
   "execution_count": 12
  },
  {
   "cell_type": "code",
   "metadata": {
    "ExecuteTime": {
     "end_time": "2025-03-22T15:22:44.172451Z",
     "start_time": "2025-03-22T15:22:44.152811Z"
    }
   },
   "source": "print(atoms)",
   "outputs": [
    {
     "data": {
      "text/plain": [
       "\u001B[1;35mAtoms\u001B[0m\u001B[1m(\u001B[0m\u001B[33msymbols\u001B[0m=\u001B[32m'C6H14'\u001B[0m, \u001B[33mpbc\u001B[0m=\u001B[3;91mFalse\u001B[0m, \u001B[33minitial_charges\u001B[0m=\u001B[33m...\u001B[0m\u001B[1m)\u001B[0m\n"
      ],
      "text/html": [
       "<pre style=\"white-space:pre;overflow-x:auto;line-height:normal;font-family:Menlo,'DejaVu Sans Mono',consolas,'Courier New',monospace\"><span style=\"color: #800080; text-decoration-color: #800080; font-weight: bold\">Atoms</span><span style=\"font-weight: bold\">(</span><span style=\"color: #808000; text-decoration-color: #808000\">symbols</span>=<span style=\"color: #008000; text-decoration-color: #008000\">'C6H14'</span>, <span style=\"color: #808000; text-decoration-color: #808000\">pbc</span>=<span style=\"color: #ff0000; text-decoration-color: #ff0000; font-style: italic\">False</span>, <span style=\"color: #808000; text-decoration-color: #808000\">initial_charges</span>=<span style=\"color: #808000; text-decoration-color: #808000\">...</span><span style=\"font-weight: bold\">)</span>\n",
       "</pre>\n"
      ]
     },
     "metadata": {},
     "output_type": "display_data"
    }
   ],
   "execution_count": 13
  },
  {
   "cell_type": "code",
   "metadata": {
    "ExecuteTime": {
     "end_time": "2025-03-22T15:22:51.326185Z",
     "start_time": "2025-03-22T15:22:51.322785Z"
    }
   },
   "source": [
    "d = 0.776 / 1e24\n",
    "L = ((atoms.get_masses().sum() / units.mol) / d)**(1 / 3.) * 10\n",
    "# Set up box of 27 acetonitrile molecules\n",
    "atoms.set_cell((L, L, L))\n",
    "atoms.center()\n",
    "# atoms = atoms.repeat((3, 3, 3))\n",
    "print(atoms)"
   ],
   "outputs": [
    {
     "data": {
      "text/plain": [
       "\u001B[1;35mAtoms\u001B[0m\u001B[1m(\u001B[0m\u001B[33msymbols\u001B[0m=\u001B[32m'C6H14'\u001B[0m, \u001B[33mpbc\u001B[0m=\u001B[3;91mFalse\u001B[0m, \u001B[33mcell\u001B[0m=\u001B[1m[\u001B[0m\u001B[1;36m56.91952406730776\u001B[0m, \u001B[1;36m56.91952406730776\u001B[0m, \u001B[1;36m56.91952406730776\u001B[0m\u001B[1m]\u001B[0m, \n",
       "\u001B[33minitial_charges\u001B[0m=\u001B[33m...\u001B[0m\u001B[1m)\u001B[0m\n"
      ],
      "text/html": [
       "<pre style=\"white-space:pre;overflow-x:auto;line-height:normal;font-family:Menlo,'DejaVu Sans Mono',consolas,'Courier New',monospace\"><span style=\"color: #800080; text-decoration-color: #800080; font-weight: bold\">Atoms</span><span style=\"font-weight: bold\">(</span><span style=\"color: #808000; text-decoration-color: #808000\">symbols</span>=<span style=\"color: #008000; text-decoration-color: #008000\">'C6H14'</span>, <span style=\"color: #808000; text-decoration-color: #808000\">pbc</span>=<span style=\"color: #ff0000; text-decoration-color: #ff0000; font-style: italic\">False</span>, <span style=\"color: #808000; text-decoration-color: #808000\">cell</span>=<span style=\"font-weight: bold\">[</span><span style=\"color: #008080; text-decoration-color: #008080; font-weight: bold\">56.91952406730776</span>, <span style=\"color: #008080; text-decoration-color: #008080; font-weight: bold\">56.91952406730776</span>, <span style=\"color: #008080; text-decoration-color: #008080; font-weight: bold\">56.91952406730776</span><span style=\"font-weight: bold\">]</span>, \n",
       "<span style=\"color: #808000; text-decoration-color: #808000\">initial_charges</span>=<span style=\"color: #808000; text-decoration-color: #808000\">...</span><span style=\"font-weight: bold\">)</span>\n",
       "</pre>\n"
      ]
     },
     "metadata": {},
     "output_type": "display_data"
    }
   ],
   "execution_count": 14
  },
  {
   "cell_type": "code",
   "metadata": {
    "ExecuteTime": {
     "end_time": "2025-03-22T15:22:59.300364Z",
     "start_time": "2025-03-22T15:22:59.204114Z"
    }
   },
   "source": [
    "atoms.calc = XTB(\n",
    "    method=\"GFN2-xTB\",\n",
    "    directory='xtb_files',\n",
    "    atoms=atoms,\n",
    "    charge=0,\n",
    "    multiplicity=1,\n",
    "    parallel=True,\n",
    "    periodic=True,\n",
    ")\n",
    "print(atoms.get_potential_energy())\n",
    "print(atoms.get_forces())"
   ],
   "outputs": [
    {
     "data": {
      "text/plain": [
       "\u001B[1;36m-544.0476194232137\u001B[0m\n"
      ],
      "text/html": [
       "<pre style=\"white-space:pre;overflow-x:auto;line-height:normal;font-family:Menlo,'DejaVu Sans Mono',consolas,'Courier New',monospace\"><span style=\"color: #008080; text-decoration-color: #008080; font-weight: bold\">-544.0476194232137</span>\n",
       "</pre>\n"
      ]
     },
     "metadata": {},
     "output_type": "display_data"
    },
    {
     "data": {
      "text/plain": [
       "\u001B[1m[\u001B[0m\u001B[1m[\u001B[0m\u001B[1;36m-0.01528865\u001B[0m \u001B[1;36m-0.11282544\u001B[0m  \u001B[1;36m0.01029797\u001B[0m\u001B[1m]\u001B[0m\n",
       " \u001B[1m[\u001B[0m \u001B[1;36m0.01530302\u001B[0m  \u001B[1;36m0.11638278\u001B[0m \u001B[1;36m-0.02871846\u001B[0m\u001B[1m]\u001B[0m\n",
       " \u001B[1m[\u001B[0m \u001B[1;36m0.02246106\u001B[0m \u001B[1;36m-0.00968628\u001B[0m  \u001B[1;36m0.02209957\u001B[0m\u001B[1m]\u001B[0m\n",
       " \u001B[1m[\u001B[0m\u001B[1;36m-0.02437843\u001B[0m  \u001B[1;36m0.00671538\u001B[0m  \u001B[1;36m0.00050757\u001B[0m\u001B[1m]\u001B[0m\n",
       " \u001B[1m[\u001B[0m \u001B[1;36m0.34257072\u001B[0m  \u001B[1;36m0.07428151\u001B[0m \u001B[1;36m-0.00791582\u001B[0m\u001B[1m]\u001B[0m\n",
       " \u001B[1m[\u001B[0m\u001B[1;36m-0.33670484\u001B[0m \u001B[1;36m-0.07825666\u001B[0m  \u001B[1;36m0.00894929\u001B[0m\u001B[1m]\u001B[0m\n",
       " \u001B[1m[\u001B[0m\u001B[1;36m-0.01036006\u001B[0m \u001B[1;36m-0.12280372\u001B[0m  \u001B[1;36m0.09080527\u001B[0m\u001B[1m]\u001B[0m\n",
       " \u001B[1m[\u001B[0m \u001B[1;36m0.00373988\u001B[0m \u001B[1;36m-0.12172686\u001B[0m \u001B[1;36m-0.08765412\u001B[0m\u001B[1m]\u001B[0m\n",
       " \u001B[1m[\u001B[0m \u001B[1;36m0.00377473\u001B[0m  \u001B[1;36m0.12220927\u001B[0m \u001B[1;36m-0.09418383\u001B[0m\u001B[1m]\u001B[0m\n",
       " \u001B[1m[\u001B[0m \u001B[1;36m0.00144297\u001B[0m  \u001B[1;36m0.12133037\u001B[0m  \u001B[1;36m0.08193103\u001B[0m\u001B[1m]\u001B[0m\n",
       " \u001B[1m[\u001B[0m\u001B[1;36m-0.05272219\u001B[0m  \u001B[1;36m0.09898128\u001B[0m \u001B[1;36m-0.07643699\u001B[0m\u001B[1m]\u001B[0m\n",
       " \u001B[1m[\u001B[0m\u001B[1;36m-0.04882524\u001B[0m  \u001B[1;36m0.09866721\u001B[0m  \u001B[1;36m0.07858461\u001B[0m\u001B[1m]\u001B[0m\n",
       " \u001B[1m[\u001B[0m \u001B[1;36m0.04700164\u001B[0m \u001B[1;36m-0.09889124\u001B[0m \u001B[1;36m-0.07808736\u001B[0m\u001B[1m]\u001B[0m\n",
       " \u001B[1m[\u001B[0m \u001B[1;36m0.05496966\u001B[0m \u001B[1;36m-0.10005602\u001B[0m  \u001B[1;36m0.080397\u001B[0m  \u001B[1m]\u001B[0m\n",
       " \u001B[1m[\u001B[0m\u001B[1;36m-0.0425383\u001B[0m  \u001B[1;36m-0.12032151\u001B[0m  \u001B[1;36m0.17873964\u001B[0m\u001B[1m]\u001B[0m\n",
       " \u001B[1m[\u001B[0m\u001B[1;36m-0.1305113\u001B[0m   \u001B[1;36m0.14830843\u001B[0m  \u001B[1;36m0.00149185\u001B[0m\u001B[1m]\u001B[0m\n",
       " \u001B[1m[\u001B[0m\u001B[1;36m-0.04477943\u001B[0m \u001B[1;36m-0.11773873\u001B[0m \u001B[1;36m-0.18362444\u001B[0m\u001B[1m]\u001B[0m\n",
       " \u001B[1m[\u001B[0m \u001B[1;36m0.043107\u001B[0m    \u001B[1;36m0.12287668\u001B[0m  \u001B[1;36m0.18311784\u001B[0m\u001B[1m]\u001B[0m\n",
       " \u001B[1m[\u001B[0m \u001B[1;36m0.04435971\u001B[0m  \u001B[1;36m0.1184588\u001B[0m  \u001B[1;36m-0.18320517\u001B[0m\u001B[1m]\u001B[0m\n",
       " \u001B[1m[\u001B[0m \u001B[1;36m0.12737808\u001B[0m \u001B[1;36m-0.14590526\u001B[0m  \u001B[1;36m0.00290455\u001B[0m\u001B[1m]\u001B[0m\u001B[1m]\u001B[0m\n"
      ],
      "text/html": [
       "<pre style=\"white-space:pre;overflow-x:auto;line-height:normal;font-family:Menlo,'DejaVu Sans Mono',consolas,'Courier New',monospace\"><span style=\"font-weight: bold\">[[</span><span style=\"color: #008080; text-decoration-color: #008080; font-weight: bold\">-0.01528865</span> <span style=\"color: #008080; text-decoration-color: #008080; font-weight: bold\">-0.11282544</span>  <span style=\"color: #008080; text-decoration-color: #008080; font-weight: bold\">0.01029797</span><span style=\"font-weight: bold\">]</span>\n",
       " <span style=\"font-weight: bold\">[</span> <span style=\"color: #008080; text-decoration-color: #008080; font-weight: bold\">0.01530302</span>  <span style=\"color: #008080; text-decoration-color: #008080; font-weight: bold\">0.11638278</span> <span style=\"color: #008080; text-decoration-color: #008080; font-weight: bold\">-0.02871846</span><span style=\"font-weight: bold\">]</span>\n",
       " <span style=\"font-weight: bold\">[</span> <span style=\"color: #008080; text-decoration-color: #008080; font-weight: bold\">0.02246106</span> <span style=\"color: #008080; text-decoration-color: #008080; font-weight: bold\">-0.00968628</span>  <span style=\"color: #008080; text-decoration-color: #008080; font-weight: bold\">0.02209957</span><span style=\"font-weight: bold\">]</span>\n",
       " <span style=\"font-weight: bold\">[</span><span style=\"color: #008080; text-decoration-color: #008080; font-weight: bold\">-0.02437843</span>  <span style=\"color: #008080; text-decoration-color: #008080; font-weight: bold\">0.00671538</span>  <span style=\"color: #008080; text-decoration-color: #008080; font-weight: bold\">0.00050757</span><span style=\"font-weight: bold\">]</span>\n",
       " <span style=\"font-weight: bold\">[</span> <span style=\"color: #008080; text-decoration-color: #008080; font-weight: bold\">0.34257072</span>  <span style=\"color: #008080; text-decoration-color: #008080; font-weight: bold\">0.07428151</span> <span style=\"color: #008080; text-decoration-color: #008080; font-weight: bold\">-0.00791582</span><span style=\"font-weight: bold\">]</span>\n",
       " <span style=\"font-weight: bold\">[</span><span style=\"color: #008080; text-decoration-color: #008080; font-weight: bold\">-0.33670484</span> <span style=\"color: #008080; text-decoration-color: #008080; font-weight: bold\">-0.07825666</span>  <span style=\"color: #008080; text-decoration-color: #008080; font-weight: bold\">0.00894929</span><span style=\"font-weight: bold\">]</span>\n",
       " <span style=\"font-weight: bold\">[</span><span style=\"color: #008080; text-decoration-color: #008080; font-weight: bold\">-0.01036006</span> <span style=\"color: #008080; text-decoration-color: #008080; font-weight: bold\">-0.12280372</span>  <span style=\"color: #008080; text-decoration-color: #008080; font-weight: bold\">0.09080527</span><span style=\"font-weight: bold\">]</span>\n",
       " <span style=\"font-weight: bold\">[</span> <span style=\"color: #008080; text-decoration-color: #008080; font-weight: bold\">0.00373988</span> <span style=\"color: #008080; text-decoration-color: #008080; font-weight: bold\">-0.12172686</span> <span style=\"color: #008080; text-decoration-color: #008080; font-weight: bold\">-0.08765412</span><span style=\"font-weight: bold\">]</span>\n",
       " <span style=\"font-weight: bold\">[</span> <span style=\"color: #008080; text-decoration-color: #008080; font-weight: bold\">0.00377473</span>  <span style=\"color: #008080; text-decoration-color: #008080; font-weight: bold\">0.12220927</span> <span style=\"color: #008080; text-decoration-color: #008080; font-weight: bold\">-0.09418383</span><span style=\"font-weight: bold\">]</span>\n",
       " <span style=\"font-weight: bold\">[</span> <span style=\"color: #008080; text-decoration-color: #008080; font-weight: bold\">0.00144297</span>  <span style=\"color: #008080; text-decoration-color: #008080; font-weight: bold\">0.12133037</span>  <span style=\"color: #008080; text-decoration-color: #008080; font-weight: bold\">0.08193103</span><span style=\"font-weight: bold\">]</span>\n",
       " <span style=\"font-weight: bold\">[</span><span style=\"color: #008080; text-decoration-color: #008080; font-weight: bold\">-0.05272219</span>  <span style=\"color: #008080; text-decoration-color: #008080; font-weight: bold\">0.09898128</span> <span style=\"color: #008080; text-decoration-color: #008080; font-weight: bold\">-0.07643699</span><span style=\"font-weight: bold\">]</span>\n",
       " <span style=\"font-weight: bold\">[</span><span style=\"color: #008080; text-decoration-color: #008080; font-weight: bold\">-0.04882524</span>  <span style=\"color: #008080; text-decoration-color: #008080; font-weight: bold\">0.09866721</span>  <span style=\"color: #008080; text-decoration-color: #008080; font-weight: bold\">0.07858461</span><span style=\"font-weight: bold\">]</span>\n",
       " <span style=\"font-weight: bold\">[</span> <span style=\"color: #008080; text-decoration-color: #008080; font-weight: bold\">0.04700164</span> <span style=\"color: #008080; text-decoration-color: #008080; font-weight: bold\">-0.09889124</span> <span style=\"color: #008080; text-decoration-color: #008080; font-weight: bold\">-0.07808736</span><span style=\"font-weight: bold\">]</span>\n",
       " <span style=\"font-weight: bold\">[</span> <span style=\"color: #008080; text-decoration-color: #008080; font-weight: bold\">0.05496966</span> <span style=\"color: #008080; text-decoration-color: #008080; font-weight: bold\">-0.10005602</span>  <span style=\"color: #008080; text-decoration-color: #008080; font-weight: bold\">0.080397</span>  <span style=\"font-weight: bold\">]</span>\n",
       " <span style=\"font-weight: bold\">[</span><span style=\"color: #008080; text-decoration-color: #008080; font-weight: bold\">-0.0425383</span>  <span style=\"color: #008080; text-decoration-color: #008080; font-weight: bold\">-0.12032151</span>  <span style=\"color: #008080; text-decoration-color: #008080; font-weight: bold\">0.17873964</span><span style=\"font-weight: bold\">]</span>\n",
       " <span style=\"font-weight: bold\">[</span><span style=\"color: #008080; text-decoration-color: #008080; font-weight: bold\">-0.1305113</span>   <span style=\"color: #008080; text-decoration-color: #008080; font-weight: bold\">0.14830843</span>  <span style=\"color: #008080; text-decoration-color: #008080; font-weight: bold\">0.00149185</span><span style=\"font-weight: bold\">]</span>\n",
       " <span style=\"font-weight: bold\">[</span><span style=\"color: #008080; text-decoration-color: #008080; font-weight: bold\">-0.04477943</span> <span style=\"color: #008080; text-decoration-color: #008080; font-weight: bold\">-0.11773873</span> <span style=\"color: #008080; text-decoration-color: #008080; font-weight: bold\">-0.18362444</span><span style=\"font-weight: bold\">]</span>\n",
       " <span style=\"font-weight: bold\">[</span> <span style=\"color: #008080; text-decoration-color: #008080; font-weight: bold\">0.043107</span>    <span style=\"color: #008080; text-decoration-color: #008080; font-weight: bold\">0.12287668</span>  <span style=\"color: #008080; text-decoration-color: #008080; font-weight: bold\">0.18311784</span><span style=\"font-weight: bold\">]</span>\n",
       " <span style=\"font-weight: bold\">[</span> <span style=\"color: #008080; text-decoration-color: #008080; font-weight: bold\">0.04435971</span>  <span style=\"color: #008080; text-decoration-color: #008080; font-weight: bold\">0.1184588</span>  <span style=\"color: #008080; text-decoration-color: #008080; font-weight: bold\">-0.18320517</span><span style=\"font-weight: bold\">]</span>\n",
       " <span style=\"font-weight: bold\">[</span> <span style=\"color: #008080; text-decoration-color: #008080; font-weight: bold\">0.12737808</span> <span style=\"color: #008080; text-decoration-color: #008080; font-weight: bold\">-0.14590526</span>  <span style=\"color: #008080; text-decoration-color: #008080; font-weight: bold\">0.00290455</span><span style=\"font-weight: bold\">]]</span>\n",
       "</pre>\n"
      ]
     },
     "metadata": {},
     "output_type": "display_data"
    }
   ],
   "execution_count": 15
  },
  {
   "cell_type": "code",
   "metadata": {
    "ExecuteTime": {
     "end_time": "2025-03-22T15:23:50.498156Z",
     "start_time": "2025-03-22T15:23:50.495497Z"
    }
   },
   "source": [
    "atoms.calc"
   ],
   "outputs": [
    {
     "data": {
      "text/plain": [
       "<xtb.ase.calculator.XTB at 0x7f76479cc520>"
      ]
     },
     "execution_count": 17,
     "metadata": {},
     "output_type": "execute_result"
    }
   ],
   "execution_count": 17
  },
  {
   "cell_type": "code",
   "metadata": {
    "ExecuteTime": {
     "end_time": "2025-03-22T15:24:59.616637Z",
     "start_time": "2025-03-22T15:24:59.613659Z"
    }
   },
   "source": [
    "dyn = Langevin(\n",
    "    atoms,\n",
    "    timestep=0.5 * units.fs,\n",
    "    temperature_K=298,\n",
    "    friction=0.02,\n",
    "    trajectory=f'{smile}.traj',\n",
    "    logfile=f'{smile}.log',\n",
    "    append_trajectory=True)\n",
    "\n",
    "\n",
    "# Set up trajectory\n",
    "traj = Trajectory(f'{smile}.traj', 'w', atoms)\n",
    "dyn.attach(traj.write, interval=100)\n",
    "# dyn.attach(MDLogger(\n",
    "#     dyn,\n",
    "#     atoms,\n",
    "#     'md.log',\n",
    "#     header=False,\n",
    "#     stress=False,\n",
    "#     peratom=True,\n",
    "#     mode=\"a\"\n",
    "#     ), interval=1000)"
   ],
   "outputs": [],
   "execution_count": 22
  },
  {
   "metadata": {
    "ExecuteTime": {
     "end_time": "2025-03-22T15:24:13.825514Z",
     "start_time": "2025-03-22T15:24:13.812377Z"
    }
   },
   "cell_type": "code",
   "source": [
    "from logmd import LogMD\n",
    "logmd = LogMD(project=\"Alkanes\")\n",
    "\n",
    "initial_pos = atoms.positions.copy()\n",
    "def log(atoms, dyn):\n",
    "    # disulfur-bridge distance\n",
    "    # sulfur_indices = [i for i, atom in enumerate(atoms) if atom.symbol == 'S']\n",
    "    # sulfurs = atoms[sulfur_indices]\n",
    "    # S_bridge = np.linalg.norm(sulfurs[1].position - sulfurs[4].position)\n",
    "\n",
    "    # atom change\n",
    "    # atom_change = np.mean(np?.linalg.norm(initial_pos-atoms.positions, axis=1))\n",
    "\n",
    "    data_dict = {\n",
    "        # \"S_bridge\": f\"{S_bridge} [A]\",\n",
    "        # \"any_name_goes!<3\": f\"{atom_change} [A]\",\n",
    "    }\n",
    "\n",
    "    logmd(atoms, dyn, data_dict=data_dict )\n",
    "\n",
    "dyn.attach(lambda: log(atoms, dyn), interval=100)"
   ],
   "outputs": [
    {
     "ename": "FileNotFoundError",
     "evalue": "[Errno 2] No such file or directory: ''",
     "output_type": "error",
     "traceback": [
      "\u001B[0;31m---------------------------------------------------------------------------\u001B[0m",
      "\u001B[0;31mFileNotFoundError\u001B[0m                         Traceback (most recent call last)",
      "Cell \u001B[0;32mIn[20], line 2\u001B[0m\n\u001B[1;32m      1\u001B[0m \u001B[38;5;28;01mfrom\u001B[39;00m \u001B[38;5;21;01mlogmd\u001B[39;00m \u001B[38;5;28;01mimport\u001B[39;00m LogMD\n\u001B[0;32m----> 2\u001B[0m logmd \u001B[38;5;241m=\u001B[39m \u001B[43mLogMD\u001B[49m\u001B[43m(\u001B[49m\u001B[43mproject\u001B[49m\u001B[38;5;241;43m=\u001B[39;49m\u001B[38;5;124;43m\"\u001B[39;49m\u001B[38;5;124;43mAlkanes\u001B[39;49m\u001B[38;5;124;43m\"\u001B[39;49m\u001B[43m)\u001B[49m\n\u001B[1;32m      4\u001B[0m initial_pos \u001B[38;5;241m=\u001B[39m atoms\u001B[38;5;241m.\u001B[39mpositions\u001B[38;5;241m.\u001B[39mcopy()\n\u001B[1;32m      5\u001B[0m \u001B[38;5;28;01mdef\u001B[39;00m \u001B[38;5;21mlog\u001B[39m(atoms, dyn):\n\u001B[1;32m      6\u001B[0m     \u001B[38;5;66;03m# disulfur-bridge distance\u001B[39;00m\n\u001B[1;32m      7\u001B[0m     \u001B[38;5;66;03m# sulfur_indices = [i for i, atom in enumerate(atoms) if atom.symbol == 'S']\u001B[39;00m\n\u001B[0;32m   (...)\u001B[0m\n\u001B[1;32m     11\u001B[0m     \u001B[38;5;66;03m# atom change\u001B[39;00m\n\u001B[1;32m     12\u001B[0m     \u001B[38;5;66;03m# atom_change = np.mean(np?.linalg.norm(initial_pos-atoms.positions, axis=1))\u001B[39;00m\n",
      "File \u001B[0;32m~/.conda/envs/venv/lib/python3.10/site-packages/logmd/logmd.py:69\u001B[0m, in \u001B[0;36mLogMD.__init__\u001B[0;34m(self, num_workers, project, template, interval, pdb, store_locally, zip)\u001B[0m\n\u001B[1;32m     66\u001B[0m \u001B[38;5;28mself\u001B[39m\u001B[38;5;241m.\u001B[39mdisk_space_warning_shown \u001B[38;5;241m=\u001B[39m \u001B[38;5;28;01mFalse\u001B[39;00m  \u001B[38;5;66;03m# Track if warning has been shown\u001B[39;00m\n\u001B[1;32m     68\u001B[0m \u001B[38;5;28;01mif\u001B[39;00m \u001B[38;5;28mself\u001B[39m\u001B[38;5;241m.\u001B[39mpath \u001B[38;5;241m!=\u001B[39m \u001B[38;5;124m\"\u001B[39m\u001B[38;5;124m\"\u001B[39m:\n\u001B[0;32m---> 69\u001B[0m     \u001B[38;5;28mself\u001B[39m\u001B[38;5;241m.\u001B[39mpdb \u001B[38;5;241m=\u001B[39m \u001B[38;5;28;43mopen\u001B[39;49m\u001B[43m(\u001B[49m\u001B[38;5;28;43mself\u001B[39;49m\u001B[38;5;241;43m.\u001B[39;49m\u001B[43mpdb\u001B[49m\u001B[43m,\u001B[49m\u001B[43m \u001B[49m\u001B[38;5;124;43m'\u001B[39;49m\u001B[38;5;124;43mr\u001B[39;49m\u001B[38;5;124;43m'\u001B[39;49m\u001B[43m)\u001B[49m\u001B[38;5;241m.\u001B[39mread()\n\u001B[1;32m     71\u001B[0m \u001B[38;5;28;01mif\u001B[39;00m template \u001B[38;5;241m!=\u001B[39m \u001B[38;5;124m\"\u001B[39m\u001B[38;5;124m\"\u001B[39m:\n\u001B[1;32m     72\u001B[0m     template_or_templates \u001B[38;5;241m=\u001B[39m ase\u001B[38;5;241m.\u001B[39mio\u001B[38;5;241m.\u001B[39mread(template)  \u001B[38;5;66;03m# for openmm\u001B[39;00m\n",
      "\u001B[0;31mFileNotFoundError\u001B[0m: [Errno 2] No such file or directory: ''"
     ]
    }
   ],
   "execution_count": 20
  },
  {
   "cell_type": "code",
   "metadata": {
    "ExecuteTime": {
     "end_time": "2025-03-22T17:47:05.042482Z",
     "start_time": "2025-03-22T15:25:03.212151Z"
    }
   },
   "source": "dyn.run(500_000)",
   "outputs": [
    {
     "data": {
      "text/plain": [
       "True"
      ]
     },
     "execution_count": 23,
     "metadata": {},
     "output_type": "execute_result"
    }
   ],
   "execution_count": 23
  },
  {
   "metadata": {},
   "cell_type": "code",
   "outputs": [],
   "execution_count": null,
   "source": [
    "# Create a temperature monitoring function with a moving window\n",
    "def run_until_temp_converges(dynamics,\n",
    "                             step: int = 1,\n",
    "                             target_temp: float = 298.0,\n",
    "                             window_size: int = 10_000,\n",
    "                             max_steps: int = 1_000_000,\n",
    "                             tol: float = 1.0):\n",
    "    \"\"\"\n",
    "    Run dynamics until the average temperature over the last window_size steps is\n",
    "    within tol of target_temp, or until max_steps is reached.\n",
    "\n",
    "    Parameters:\n",
    "    -----------\n",
    "    dynamics : ASE dynamics object\n",
    "        The dynamics to run\n",
    "    step : int\n",
    "        Run dynamics for this many steps at a time\n",
    "    target_temp : float\n",
    "        Target temperature in Kelvin\n",
    "    window_size : int\n",
    "        Number of steps to average over\n",
    "    max_steps : int\n",
    "        Maximum number of steps to run\n",
    "    tol : float\n",
    "        Tolerance for temperature convergence\n",
    "\n",
    "    Returns:\n",
    "    --------\n",
    "    int\n",
    "        Number of steps actually run\n",
    "    \"\"\"\n",
    "    # History to store temperatures\n",
    "    temp_history = []\n",
    "\n",
    "    # Steps counter\n",
    "    steps_run = 0\n",
    "\n",
    "    # Main loop\n",
    "    while steps_run < max_steps:\n",
    "        # Run one step\n",
    "        dynamics.run(step)\n",
    "        steps_run += step\n",
    "\n",
    "        # Get current temperature and add to history\n",
    "        current_temp = dynamics.atoms.get_temperature()\n",
    "        temp_history.append(current_temp)\n",
    "\n",
    "        # Keep only the last window_size temperatures\n",
    "        if len(temp_history) > window_size:\n",
    "            temp_history.pop(0)\n",
    "\n",
    "        # Check if we have enough data and if temperature has converged\n",
    "        if len(temp_history) == window_size:\n",
    "            avg_temp = sum(temp_history) / window_size\n",
    "            if abs(avg_temp - target_temp) <= tol:\n",
    "                print(f\"Temperature converged to {avg_temp:.2f}K after {steps_run} steps\")\n",
    "                return steps_run\n",
    "\n",
    "        # Print progress every 1000 steps\n",
    "        if steps_run % 1000 == 0:\n",
    "            if len(temp_history) == window_size:\n",
    "                avg_temp = sum(temp_history) / window_size\n",
    "                print(f\"Step {steps_run}: Average temperature over last {window_size} steps: {avg_temp:.2f}K\")\n",
    "            else:\n",
    "                print(f\"Step {steps_run}: Collecting temperature data ({len(temp_history)}/{window_size})\")\n",
    "\n",
    "    print(f\"Maximum steps ({max_steps}) reached without convergence\")\n",
    "    return steps_run\n",
    "\n",
    "# Replace your dyn.run(500_000) with:\n",
    "run_until_temp_converges(dyn, target_temp=298.0, window_size=10000, max_steps=500000, tol=1.0)"
   ]
  },
  {
   "metadata": {
    "ExecuteTime": {
     "end_time": "2025-03-24T12:39:34.680379Z",
     "start_time": "2025-03-24T12:38:35.028630Z"
    }
   },
   "cell_type": "code",
   "source": [
    "traj = Trajectory(f'{smile}_after.traj', 'w', atoms)\n",
    "dyn.attach(traj.write, interval=5)\n",
    "new_logger = MDLogger(\n",
    "    dyn,\n",
    "    atoms,\n",
    "    f'{smile}_after.log',\n",
    "    header=True,\n",
    "    stress=False,\n",
    "    peratom=True,\n",
    "    mode=\"a\"\n",
    ")\n",
    "dyn.attach(new_logger, interval=5)\n",
    "dyn.run(2000)"
   ],
   "outputs": [
    {
     "data": {
      "text/plain": [
       "True"
      ]
     },
     "execution_count": 26,
     "metadata": {},
     "output_type": "execute_result"
    }
   ],
   "execution_count": 26
  },
  {
   "cell_type": "code",
   "metadata": {},
   "source": [
    "print(atoms.get_potential_energy())\n",
    "print(atoms.get_forces())"
   ],
   "outputs": [],
   "execution_count": null
  },
  {
   "cell_type": "code",
   "metadata": {},
   "source": [
    "print(atoms.get_potential_energy())\n",
    "print(atoms.get_forces())"
   ],
   "outputs": [],
   "execution_count": null
  },
  {
   "cell_type": "code",
   "metadata": {},
   "source": [
    "import plotly.express as px\n",
    "import pandas as pd\n",
    "\n",
    "# Load the data (replace 'your_file.txt' with the actual filename)\n",
    "df = pd.read_csv(\"md.log\", delim_whitespace=True)\n",
    "\n",
    "# Plot Time vs. Etot\n",
    "fig = px.line(df, x=\"Time[ps]\", y=\"Etot[eV]\", title=\"Total Energy vs. Time\")\n",
    "\n",
    "# Show the interactive plot\n",
    "fig.show()"
   ],
   "outputs": [],
   "execution_count": null
  },
  {
   "cell_type": "code",
   "metadata": {},
   "source": [
    "import plotly.express as px\n",
    "import pandas as pd\n",
    "\n",
    "# Load the data (replace 'your_file.txt' with the actual filename)\n",
    "df = pd.read_csv(\"md.log\", delim_whitespace=True)\n",
    "\n",
    "# Plot Time vs. Etot\n",
    "fig = px.line(df, x=\"Time[ps]\", y=\"T[K]\", title=\"T[K] vs. Time\")\n",
    "\n",
    "# Show the interactive plot\n",
    "fig.show()"
   ],
   "outputs": [],
   "execution_count": null
  },
  {
   "cell_type": "code",
   "metadata": {},
   "source": [
    "!ls"
   ],
   "outputs": [],
   "execution_count": null
  },
  {
   "metadata": {},
   "cell_type": "code",
   "source": [
    "from ase.io import read\n",
    "from ase.visualize import view\n",
    "\n",
    "# Read the entire trajectory\n",
    "traj = read(\"md.traj\", index=\":\")  # \":\" means all frames\n",
    "view(traj)  # Opens a simple GUI viewer"
   ],
   "outputs": [],
   "execution_count": null
  },
  {
   "metadata": {},
   "cell_type": "code",
   "source": [
    "# Pull out specific snapshots (e.g., the last frame):\n",
    "last_frame = read(\"mymd.traj\", index=-1)  # Last frame\n",
    "print(last_frame.get_positions())  # Atomic coordinates"
   ],
   "outputs": [],
   "execution_count": null
  },
  {
   "metadata": {},
   "cell_type": "code",
   "source": [
    "from ase.io import write\n",
    "write(\"mymd.xyz\", traj)  # Creates a multi-frame XYZ file"
   ],
   "outputs": [],
   "execution_count": null
  },
  {
   "metadata": {},
   "cell_type": "code",
   "source": [
    "for frame in traj:\n",
    "    energy = frame.get_potential_energy()\n",
    "    print(f\"Energy: {energy} eV\")"
   ],
   "outputs": [],
   "execution_count": null
  },
  {
   "metadata": {},
   "cell_type": "code",
   "outputs": [],
   "execution_count": null,
   "source": [
    "import numpy as np\n",
    "from ase.io import read, write\n",
    "from ase.db import connect\n",
    "\n",
    "# Parameters for averaging\n",
    "start_frame = 400000\n",
    "end_frame = 500000\n",
    "window_size = 100\n",
    "\n",
    "# Load frames from your trajectory\n",
    "traj = read(\"md.traj\", index=\":\")\n",
    "\n",
    "# Check trajectory length to avoid indexing errors\n",
    "total_frames = len(traj)\n",
    "print(f\"Total frames available: {total_frames}\")\n",
    "\n",
    "# Adjust end_frame if exceeds total_frames\n",
    "end_frame = min(end_frame, total_frames)\n",
    "\n",
    "# Establish connection to the ASE database for averaged frames\n",
    "db_average = connect('averaged_simulation_data.db')\n",
    "\n",
    "# Prepare a list for averaged frames to save as xyz\n",
    "averaged_frames_xyz = []\n",
    "\n",
    "# Loop through trajectory frames starting from start_frame, apply moving average every window_size\n",
    "for i in range(start_frame, end_frame, window_size):\n",
    "    window_frames = traj[i:i + window_size]\n",
    "\n",
    "    # Check window completeness\n",
    "    if len(window_frames) < window_size:\n",
    "        print(f\"Less than {window_size} frames remain; skipping remaining {len(window_frames)} frames\")\n",
    "        break\n",
    "\n",
    "    # Compute average positions, forces, and energies\n",
    "    avg_positions = np.mean([frame.get_positions() for frame in window_frames], axis=0)\n",
    "    avg_forces = np.mean([frame.get_forces() for frame in window_frames], axis=0)\n",
    "    avg_energy = np.mean([frame.get_potential_energy() for frame in window_frames])\n",
    "\n",
    "    # Use the atomic information from the first frame in the window to create a new ASE Atoms object\n",
    "    avg_atoms = window_frames[0].copy()\n",
    "    avg_atoms.set_positions(avg_positions)\n",
    "\n",
    "    # Store average information to the ASE Database\n",
    "    db_average.write(avg_atoms, data={\n",
    "        'average_energy': avg_energy,\n",
    "        'average_forces': avg_forces\n",
    "    })\n",
    "\n",
    "    # Also collect averaged atoms for XYZ file export\n",
    "    averaged_frames_xyz.append(avg_atoms)\n",
    "\n",
    "# Write averaged frames into XYZ file\n",
    "write(\"averaged_frames.xyz\", averaged_frames_xyz)\n"
   ]
  }
 ],
 "metadata": {
  "kernelspec": {
   "display_name": "torchmd-net",
   "language": "python",
   "name": "python3"
  },
  "language_info": {
   "codemirror_mode": {
    "name": "ipython",
    "version": 3
   },
   "file_extension": ".py",
   "mimetype": "text/x-python",
   "name": "python",
   "nbconvert_exporter": "python",
   "pygments_lexer": "ipython3",
   "version": "3.11.11"
  }
 },
 "nbformat": 4,
 "nbformat_minor": 2
}
